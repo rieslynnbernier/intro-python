{
 "cells": [
  {
   "cell_type": "code",
   "execution_count": 1,
   "id": "ad4bd167-d7e8-45b0-9aa3-5d0ba242af31",
   "metadata": {},
   "outputs": [
    {
     "name": "stdout",
     "output_type": "stream",
     "text": [
      "Hello World\n"
     ]
    }
   ],
   "source": [
    "print(\"Hello World\")"
   ]
  },
  {
   "cell_type": "code",
   "execution_count": 3,
   "id": "cba8ad86-5292-4061-aea6-40d6f54ca64f",
   "metadata": {},
   "outputs": [
    {
     "name": "stdout",
     "output_type": "stream",
     "text": [
      "5\n",
      "x\n"
     ]
    }
   ],
   "source": [
    "x=5\n",
    "print(x)\n",
    "print(\"x\")"
   ]
  },
  {
   "cell_type": "code",
   "execution_count": 4,
   "id": "83451bd3-04e5-43d3-b5d6-78959af5456a",
   "metadata": {},
   "outputs": [
    {
     "name": "stdout",
     "output_type": "stream",
     "text": [
      "Hello World\n"
     ]
    }
   ],
   "source": [
    "message=\"Hello World\"\n",
    "print(message)"
   ]
  },
  {
   "cell_type": "code",
   "execution_count": 5,
   "id": "e42a998e-e6b7-4e73-8733-efa38d905691",
   "metadata": {},
   "outputs": [
    {
     "name": "stdout",
     "output_type": "stream",
     "text": [
      "5\n"
     ]
    }
   ],
   "source": [
    "x=2\n",
    "y=3\n",
    "z=x+y\n",
    "print(z)"
   ]
  },
  {
   "cell_type": "code",
   "execution_count": 6,
   "id": "16cbb99d-af06-482f-bc61-4c4d5f6a4781",
   "metadata": {},
   "outputs": [
    {
     "name": "stdout",
     "output_type": "stream",
     "text": [
      "5\n"
     ]
    }
   ],
   "source": [
    "x=2\n",
    "x=3\n",
    "x=5\n",
    "print(x)"
   ]
  },
  {
   "cell_type": "code",
   "execution_count": 7,
   "id": "77bc3de9-2da0-460f-a189-3163bf9ec4e1",
   "metadata": {},
   "outputs": [
    {
     "name": "stdout",
     "output_type": "stream",
     "text": [
      "2\n"
     ]
    }
   ],
   "source": [
    "x=2\n",
    "z=x\n",
    "x=1\n",
    "print(z)"
   ]
  },
  {
   "cell_type": "code",
   "execution_count": 8,
   "id": "f6277cfa-e6bd-4029-b3e5-c528478f96d9",
   "metadata": {},
   "outputs": [
    {
     "name": "stdout",
     "output_type": "stream",
     "text": [
      "<class 'int'>\n",
      "<class 'float'>\n",
      "<class 'str'>\n",
      "<class 'bool'>\n"
     ]
    }
   ],
   "source": [
    "x=1 #integer\n",
    "print(type(x))\n",
    "x=1.1 #float\n",
    "print(type(x))\n",
    "x='hello' #string\n",
    "print(type(x))\n",
    "x=True #boolean true and false\n",
    "print(type(x))"
   ]
  },
  {
   "cell_type": "code",
   "execution_count": 9,
   "id": "2c77e490-eac4-4e06-bbb6-fb98e08ac03f",
   "metadata": {},
   "outputs": [
    {
     "name": "stdout",
     "output_type": "stream",
     "text": [
      "onetwo\n"
     ]
    }
   ],
   "source": [
    "print(\"one\"+\"two\")"
   ]
  },
  {
   "cell_type": "code",
   "execution_count": 10,
   "id": "676b5e5f-c858-40af-8c80-ea365936944c",
   "metadata": {},
   "outputs": [
    {
     "name": "stdout",
     "output_type": "stream",
     "text": [
      "8\n",
      "2\n",
      "9\n",
      "1.6666666666666667\n",
      "125\n",
      "2.23606797749979\n",
      "2\n"
     ]
    }
   ],
   "source": [
    "print(5+3) #add\n",
    "print(5-3) #subtract\n",
    "print(3*3) #multiplication\n",
    "print(5/3) #division\n",
    "print(5**3) #exponent\n",
    "print(5**(1/2)) #square root\n",
    "print(5%3) #modulo (remainder of division)"
   ]
  },
  {
   "cell_type": "code",
   "execution_count": 11,
   "id": "67f21479-7641-456f-aab6-005461f471e5",
   "metadata": {},
   "outputs": [],
   "source": [
    "import math"
   ]
  },
  {
   "cell_type": "code",
   "execution_count": 12,
   "id": "57f4b73f-9686-4098-8f1a-65a818641e54",
   "metadata": {},
   "outputs": [
    {
     "name": "stdout",
     "output_type": "stream",
     "text": [
      "3.141592653589793\n",
      "4.0\n"
     ]
    }
   ],
   "source": [
    "print(math.pi)\n",
    "print(math.sqrt(16))"
   ]
  },
  {
   "cell_type": "code",
   "execution_count": 13,
   "id": "0d6404c4-3670-43b4-9fac-c62250255388",
   "metadata": {},
   "outputs": [
    {
     "name": "stdout",
     "output_type": "stream",
     "text": [
      "false message\n"
     ]
    }
   ],
   "source": [
    "#selection -- if statements\n",
    "test = False \n",
    "if test is False:\n",
    "    print(\"false message\")"
   ]
  },
  {
   "cell_type": "code",
   "execution_count": 14,
   "id": "14789a21-3ecf-41a2-b7b2-9d80d473f046",
   "metadata": {},
   "outputs": [
    {
     "name": "stdout",
     "output_type": "stream",
     "text": [
      "x is small\n"
     ]
    }
   ],
   "source": [
    "x==90 \n",
    "if x < 100:\n",
    "    print('x is small')"
   ]
  },
  {
   "cell_type": "code",
   "execution_count": 20,
   "id": "b9c8f32d-c778-478f-a90f-e7c2a9a64847",
   "metadata": {},
   "outputs": [
    {
     "name": "stdout",
     "output_type": "stream",
     "text": [
      "under or equal to 100\n"
     ]
    }
   ],
   "source": [
    "x=100\n",
    "if x <= 100:\n",
    "    print('under or equal to 100')\n",
    "elif x > 100:\n",
    "    print('over 100')\n",
    "else:\n",
    "    print('oops')"
   ]
  },
  {
   "cell_type": "code",
   "execution_count": 22,
   "id": "cc382147-7576-4e50-9e4e-a9dfde989b5e",
   "metadata": {},
   "outputs": [
    {
     "name": "stdout",
     "output_type": "stream",
     "text": [
      "yes\n",
      "cool\n",
      "satisfied\n"
     ]
    }
   ],
   "source": [
    "x=99\n",
    "if x>90 and x<100:\n",
    "    print('yes')\n",
    "if z<50 or z>1000:\n",
    "    print('cool')\n",
    "if z<50 or (x>90 and x<100):\n",
    "    print('satisfied')"
   ]
  },
  {
   "cell_type": "code",
   "execution_count": 23,
   "id": "d8d3d607-fe49-465a-a410-5667e64c702f",
   "metadata": {},
   "outputs": [
    {
     "name": "stdout",
     "output_type": "stream",
     "text": [
      "1\n",
      "2\n",
      "3\n",
      "4\n",
      "5\n",
      "6\n",
      "7\n",
      "8\n",
      "9\n"
     ]
    }
   ],
   "source": [
    "#iteration -- for loops\n",
    "for i in range(1,10):\n",
    "    print(i)"
   ]
  },
  {
   "cell_type": "code",
   "execution_count": 25,
   "id": "13a92472-402c-4bbf-8584-0ff28ef7956b",
   "metadata": {},
   "outputs": [
    {
     "name": "stdout",
     "output_type": "stream",
     "text": [
      "hello\n",
      "hello\n",
      "hello\n",
      "hello\n",
      "hello\n",
      "hello\n",
      "hello\n",
      "hello\n",
      "hello\n",
      "hello\n"
     ]
    }
   ],
   "source": [
    "final_value=10\n",
    "for i in range(0,final_value):\n",
    "    print('hello')"
   ]
  },
  {
   "cell_type": "code",
   "execution_count": 26,
   "id": "93db1a6c-0d62-4a77-a652-06c867b034af",
   "metadata": {},
   "outputs": [
    {
     "name": "stdout",
     "output_type": "stream",
     "text": [
      "h\n",
      "e\n",
      "l\n",
      "l\n",
      "o\n",
      " \n",
      "w\n",
      "o\n",
      "r\n",
      "l\n",
      "d\n"
     ]
    }
   ],
   "source": [
    "message='hello world'\n",
    "for char in message:\n",
    "    print(char)"
   ]
  },
  {
   "cell_type": "code",
   "execution_count": 28,
   "id": "a5822042-c820-429a-b850-e96d15145fea",
   "metadata": {},
   "outputs": [
    {
     "name": "stdout",
     "output_type": "stream",
     "text": [
      "14\n",
      "19\n",
      "38\n"
     ]
    }
   ],
   "source": [
    "#aside -- incrementing\n",
    "x=9\n",
    "x=x+5\n",
    "print(x)\n",
    "x+=5\n",
    "print(x)\n",
    "x*=2\n",
    "print(x)"
   ]
  },
  {
   "cell_type": "code",
   "execution_count": 29,
   "id": "61308ccd-489d-40a6-8c33-e3ece0bb2b08",
   "metadata": {},
   "outputs": [
    {
     "name": "stdout",
     "output_type": "stream",
     "text": [
      "(1, 2, 3, 4, 5)\n",
      "1\n",
      "2\n",
      "3\n",
      "4\n",
      "5\n"
     ]
    }
   ],
   "source": [
    "#containers -- dynamic arrays aka \"lists\" in Python\n",
    "first_5_num=(1,2,3,4,5)\n",
    "print(first_5_num)\n",
    "for num in first_5_num:\n",
    "    print(num)"
   ]
  },
  {
   "cell_type": "code",
   "execution_count": 30,
   "id": "d18268f5-503a-40af-b412-083bf7f9d605",
   "metadata": {},
   "outputs": [
    {
     "name": "stdout",
     "output_type": "stream",
     "text": [
      "[0, 0, 0, 1, 2, 3, 4]\n"
     ]
    }
   ],
   "source": [
    "test_array=[0,0,0]\n",
    "for i in range(1,5):\n",
    "    test_array.append(i)\n",
    "print(test_array)"
   ]
  },
  {
   "cell_type": "code",
   "execution_count": 33,
   "id": "d568f0e3-d12e-4a59-bb1b-41bb250235c9",
   "metadata": {},
   "outputs": [
    {
     "name": "stdout",
     "output_type": "stream",
     "text": [
      "4\n",
      "4\n",
      "13\n"
     ]
    }
   ],
   "source": [
    "#functions\n",
    "def add_three(val):\n",
    "    val+=3\n",
    "    return val\n",
    "\n",
    "x=1\n",
    "print(add_three(x))\n",
    "x=add_three(x)\n",
    "print(x)\n",
    "for i in range(0,3):\n",
    "    x=add_three(x)\n",
    "print(x)"
   ]
  }
 ],
 "metadata": {
  "kernelspec": {
   "display_name": "Python 3 (ipykernel)",
   "language": "python",
   "name": "python3"
  },
  "language_info": {
   "codemirror_mode": {
    "name": "ipython",
    "version": 3
   },
   "file_extension": ".py",
   "mimetype": "text/x-python",
   "name": "python",
   "nbconvert_exporter": "python",
   "pygments_lexer": "ipython3",
   "version": "3.13.7"
  }
 },
 "nbformat": 4,
 "nbformat_minor": 5
}
