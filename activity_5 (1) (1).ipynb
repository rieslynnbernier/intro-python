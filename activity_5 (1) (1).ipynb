{
 "cells": [
  {
   "cell_type": "code",
   "execution_count": null,
   "id": "9b11ecc8-8e2f-4da3-b7bb-ace83060dcee",
   "metadata": {},
   "outputs": [],
   "source": [
    "#Rieslynn Bernier"
   ]
  },
  {
   "cell_type": "code",
   "execution_count": 4,
   "id": "8069c8dc-c4b5-44e7-9d14-27995f9a01f1",
   "metadata": {},
   "outputs": [
    {
     "name": "stdout",
     "output_type": "stream",
     "text": [
      "50.26544\n"
     ]
    }
   ],
   "source": [
    "#Problem 1 - surface area of a sphere\n",
    "\n",
    "def sphere_area(r):\n",
    "    area = 4*3.14159*(r**2)\n",
    "    return area\n",
    "    # This funtion should return the surface area of a sphere of radius r\n",
    "    # For example, print(sphere_area(2)) would print \"50.265\" (rounded, you will likely print more digits)\n",
    "\n",
    "#test \n",
    "print(sphere_area(2))\n"
   ]
  },
  {
   "cell_type": "code",
   "execution_count": 50,
   "id": "805ca017-545f-481b-bbc2-caa7ed6ee6e9",
   "metadata": {},
   "outputs": [
    {
     "name": "stdout",
     "output_type": "stream",
     "text": [
      "5\n"
     ]
    }
   ],
   "source": [
    "#Problem 2 - return the bigger of two numbers\n",
    "\n",
    "def biggest(num1, num2):\n",
    "    if num1>num2:\n",
    "        return num1\n",
    "    elif num2>num1:\n",
    "        return num2\n",
    "    # This function should return num1 or num2, whichever is the largest\n",
    "    # Come up with your own algorithm. Don't use the built-in max() function (or something similar)\n",
    "    # For example, print(biggest(2,5)) would print \"5\"\n",
    "\n",
    "#test\n",
    "print(biggest(2,5))"
   ]
  },
  {
   "cell_type": "code",
   "execution_count": 51,
   "id": "85095e7a-50a5-4002-ad9a-9afe9de8f212",
   "metadata": {},
   "outputs": [
    {
     "name": "stdout",
     "output_type": "stream",
     "text": [
      "120\n",
      "1\n"
     ]
    }
   ],
   "source": [
    "#Problem 3 - factorial\n",
    "\n",
    "def factorial(y):\n",
    "    fact=1\n",
    "    for n in range (1, y+1):\n",
    "        fact *= n\n",
    "    return fact\n",
    "    \n",
    "        \n",
    "    # This function should return y!\n",
    "    # Come up with your own algorithm. Don't use math.factorial(y) or something similar\n",
    "    # Don't forget about the special case, 0!\n",
    "    # For example, print(factorial(5)) would print \"120\"\n",
    "\n",
    "#test\n",
    "print(factorial(5))\n",
    "print(factorial(0))"
   ]
  },
  {
   "cell_type": "code",
   "execution_count": 20,
   "id": "ac2145e9-c173-4683-b245-5ebde984d0ea",
   "metadata": {},
   "outputs": [
    {
     "name": "stdout",
     "output_type": "stream",
     "text": [
      "False\n",
      "True\n"
     ]
    }
   ],
   "source": [
    "#Problem 4 - is x a factor of y?\n",
    "\n",
    "def is_divisible(y,x):\n",
    "    if y % x == 0:\n",
    "        return True\n",
    "    elif y % x != 0:\n",
    "        return False \n",
    "\n",
    "    # This function should return True if x is a factor of y, false otherwise\n",
    "    # For example, print(is_a_factor(24,12)) should print \"True\" and print(is_a_factor(101,12)) should print \"False\" \n",
    "\n",
    "#test\n",
    "print(is_divisible(101,12))\n",
    "print(is_divisible(24,12))"
   ]
  },
  {
   "cell_type": "code",
   "execution_count": 60,
   "id": "dd495ec7-7f84-4acd-b4f0-2428515d4deb",
   "metadata": {},
   "outputs": [
    {
     "name": "stdout",
     "output_type": "stream",
     "text": [
      "False\n",
      "True\n"
     ]
    }
   ],
   "source": [
    "#problem 5 - prime numbers\n",
    "\n",
    "def is_prime(num):\n",
    "    for n in range(2, int(num**(1/2)+1)):\n",
    "        if is_divisible(num,n):   \n",
    "            return False\n",
    "        else:\n",
    "            return True\n",
    "\n",
    "    #check if there is a remainder (modulo) for all numbers up to sqrt(num)\n",
    "    \n",
    "    # This function should return True if num is prime, false otherwise\n",
    "    # NOTE: to know if a number is prime, you only have to check up to sqrt(num), i.e. num**(1/2)\n",
    "    # using is_divisible() from problem 2 is encouraged\n",
    "    # For example, print(is_prime(24)) should print \"False\" and print(is_prime(7)) should print \"True\"\n",
    "\n",
    "#test \n",
    "print(is_prime(24))\n",
    "print(is_prime(7))"
   ]
  },
  {
   "cell_type": "code",
   "execution_count": 69,
   "id": "11df5dea-ef92-4028-b3b5-cf3c09afb0df",
   "metadata": {},
   "outputs": [
    {
     "name": "stdout",
     "output_type": "stream",
     "text": [
      "1.4285714285714286\n"
     ]
    }
   ],
   "source": [
    "#problem 6 - time to fall\n",
    "\n",
    "def drop_time(height):\n",
    "    time_squared=(2*height/9.8)\n",
    "    time=time_squared**(1/2)\n",
    "    return time\n",
    "\n",
    "    # This function returns the time (in seconds) it takes for a ball dropped from height (in meters) \n",
    "    # to hit the ground near the surface of the Earth\n",
    "    # print(drop_time(10)) # should print ≈ \"1.43\" (rounded, you will likely print more digits)\n",
    "\n",
    "#test\n",
    "print(drop_time(10))"
   ]
  },
  {
   "cell_type": "code",
   "execution_count": 75,
   "id": "cb2fd529-c2ff-4a14-99fe-f831b4855e79",
   "metadata": {},
   "outputs": [
    {
     "name": "stdout",
     "output_type": "stream",
     "text": [
      "7\n",
      "3\n"
     ]
    }
   ],
   "source": [
    "#problem 7 - counting Es\n",
    "\n",
    "def count_e(string):\n",
    "    count = 0\n",
    "    for char in string:\n",
    "        if char == 'e'or char == 'E':\n",
    "            count +=1\n",
    "    return count\n",
    "    \n",
    "    # this function returns the number of time the character 'E' appears in a string\n",
    "    # you should handle both uppercase and lowercase 'E'\n",
    "    # for example, print(count_e(\"evEryonE hates cheesE\")) should print \"7\"\n",
    "\n",
    "#test\n",
    "print(count_e(\"evEryonE hates cheesE\"))\n",
    "print(count_e('Evan emits enthusiasm'))"
   ]
  },
  {
   "cell_type": "code",
   "execution_count": 128,
   "id": "94787afb-76ea-40ef-a69c-c134cf153291",
   "metadata": {},
   "outputs": [
    {
     "name": "stdout",
     "output_type": "stream",
     "text": [
      "15\n"
     ]
    }
   ],
   "source": [
    "#problem 8 - sum a list numbers\n",
    "\n",
    "def sum_all(num_list):\n",
    "    addin = 0\n",
    "    for element in num_list:\n",
    "        addin = addin + element\n",
    "    return addin\n",
    "    \n",
    "    # this function returns the sum of the numbers in list\n",
    "    # For example,\n",
    "    #    list_of_num = [1, 2, 3, 4, 5]\n",
    "    #    print(new_sum(list_of_num)) would print \"15\"\n",
    "\n",
    "#test\n",
    "list_of_num = [1, 2, 3, 4, 5]\n",
    "print(sum_all(list_of_num))"
   ]
  },
  {
   "cell_type": "code",
   "execution_count": 127,
   "id": "88a00f7d-e6d5-47eb-a18b-7c298e134e2c",
   "metadata": {},
   "outputs": [
    {
     "name": "stdout",
     "output_type": "stream",
     "text": [
      "1\n",
      "2\n",
      "3\n",
      "4\n",
      "5\n"
     ]
    }
   ],
   "source": [
    "# problem 9 - generate a list from 1 to num\n",
    "\n",
    "def generate_list(num):\n",
    "    value = 0\n",
    "    for n in range(0, num-1):\n",
    "        value += 1\n",
    "        print(value)\n",
    "    return value + 1\n",
    "\n",
    "    #start at 1 and add 1 until we reach num\n",
    "    \n",
    "    # this function returns a list of numbers from 1 to num\n",
    "    # For example, print(generate_list(5)) should print \"[1, 2, 3, 4, 5]\"\n",
    "\n",
    "#test\n",
    "print(generate_list(5))"
   ]
  },
  {
   "cell_type": "code",
   "execution_count": 163,
   "id": "62406bc5-0ae6-418d-81b7-8a21461a545b",
   "metadata": {},
   "outputs": [
    {
     "name": "stdout",
     "output_type": "stream",
     "text": [
      "-5\n",
      "1\n"
     ]
    }
   ],
   "source": [
    "# problem 10 - smallest value in a list of numbers\n",
    "\n",
    "    \n",
    "def smallest(num_list):\n",
    "    minimum = num_list[0];\n",
    "    for element in num_list:\n",
    "        a = element\n",
    "        if a <= minimum:\n",
    "            minimum = a\n",
    "    return minimum\n",
    "    \n",
    "    # this function should return the smallest number in a list\n",
    "    # Come up with your own algorithm. Don't use min(num_list) or similar\n",
    "    # For example, print(smallest([1,2,3,-5,6)) would print \"-5\"\n",
    "\n",
    "#test\n",
    "print(smallest([1,2,3,-5,6]))\n",
    "print(smallest([1,2,4,5]))"
   ]
  }
 ],
 "metadata": {
  "kernelspec": {
   "display_name": "Python 3 (ipykernel)",
   "language": "python",
   "name": "python3"
  },
  "language_info": {
   "codemirror_mode": {
    "name": "ipython",
    "version": 3
   },
   "file_extension": ".py",
   "mimetype": "text/x-python",
   "name": "python",
   "nbconvert_exporter": "python",
   "pygments_lexer": "ipython3",
   "version": "3.13.7"
  }
 },
 "nbformat": 4,
 "nbformat_minor": 5
}
